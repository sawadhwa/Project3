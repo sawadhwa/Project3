{
 "cells": [
  {
   "cell_type": "code",
   "execution_count": 1,
   "id": "4539f008",
   "metadata": {},
   "outputs": [],
   "source": [
    "import pandas as pd"
   ]
  },
  {
   "cell_type": "code",
   "execution_count": 2,
   "id": "3b78c932",
   "metadata": {},
   "outputs": [],
   "source": [
    "df = pd.read_csv(\"./data/Passengers.csv\")"
   ]
  },
  {
   "cell_type": "code",
   "execution_count": 3,
   "id": "63b2be05",
   "metadata": {},
   "outputs": [
    {
     "data": {
      "text/html": [
       "<div>\n",
       "<style scoped>\n",
       "    .dataframe tbody tr th:only-of-type {\n",
       "        vertical-align: middle;\n",
       "    }\n",
       "\n",
       "    .dataframe tbody tr th {\n",
       "        vertical-align: top;\n",
       "    }\n",
       "\n",
       "    .dataframe thead th {\n",
       "        text-align: right;\n",
       "    }\n",
       "</style>\n",
       "<table border=\"1\" class=\"dataframe\">\n",
       "  <thead>\n",
       "    <tr style=\"text-align: right;\">\n",
       "      <th></th>\n",
       "      <th>year</th>\n",
       "      <th>month</th>\n",
       "      <th>Domestic</th>\n",
       "      <th>International</th>\n",
       "    </tr>\n",
       "  </thead>\n",
       "  <tbody>\n",
       "    <tr>\n",
       "      <th>0</th>\n",
       "      <td>2002</td>\n",
       "      <td>10</td>\n",
       "      <td>48,054,917</td>\n",
       "      <td>9,578,435</td>\n",
       "    </tr>\n",
       "    <tr>\n",
       "      <th>1</th>\n",
       "      <td>2002</td>\n",
       "      <td>11</td>\n",
       "      <td>44,850,246</td>\n",
       "      <td>9,016,535</td>\n",
       "    </tr>\n",
       "    <tr>\n",
       "      <th>2</th>\n",
       "      <td>2002</td>\n",
       "      <td>12</td>\n",
       "      <td>49,684,353</td>\n",
       "      <td>10,038,794</td>\n",
       "    </tr>\n",
       "    <tr>\n",
       "      <th>3</th>\n",
       "      <td>2003</td>\n",
       "      <td>1</td>\n",
       "      <td>43,032,450</td>\n",
       "      <td>9,726,436</td>\n",
       "    </tr>\n",
       "    <tr>\n",
       "      <th>4</th>\n",
       "      <td>2003</td>\n",
       "      <td>2</td>\n",
       "      <td>41,166,780</td>\n",
       "      <td>8,283,372</td>\n",
       "    </tr>\n",
       "    <tr>\n",
       "      <th>...</th>\n",
       "      <td>...</td>\n",
       "      <td>...</td>\n",
       "      <td>...</td>\n",
       "      <td>...</td>\n",
       "    </tr>\n",
       "    <tr>\n",
       "      <th>246</th>\n",
       "      <td>2023</td>\n",
       "      <td>4</td>\n",
       "      <td>67,572,132</td>\n",
       "      <td>18,823,978</td>\n",
       "    </tr>\n",
       "    <tr>\n",
       "      <th>247</th>\n",
       "      <td>2023</td>\n",
       "      <td>5</td>\n",
       "      <td>71,424,589</td>\n",
       "      <td>19,833,959</td>\n",
       "    </tr>\n",
       "    <tr>\n",
       "      <th>248</th>\n",
       "      <td>2023</td>\n",
       "      <td>6</td>\n",
       "      <td>69,297,587</td>\n",
       "      <td>21,471,446</td>\n",
       "    </tr>\n",
       "    <tr>\n",
       "      <th>249</th>\n",
       "      <td>2023</td>\n",
       "      <td>7</td>\n",
       "      <td>75,378,956</td>\n",
       "      <td>23,456,611</td>\n",
       "    </tr>\n",
       "    <tr>\n",
       "      <th>250</th>\n",
       "      <td>2023</td>\n",
       "      <td>8</td>\n",
       "      <td>71,478,434</td>\n",
       "      <td>21,294,628</td>\n",
       "    </tr>\n",
       "  </tbody>\n",
       "</table>\n",
       "<p>251 rows × 4 columns</p>\n",
       "</div>"
      ],
      "text/plain": [
       "     year  month    Domestic International\n",
       "0    2002     10  48,054,917     9,578,435\n",
       "1    2002     11  44,850,246     9,016,535\n",
       "2    2002     12  49,684,353    10,038,794\n",
       "3    2003      1  43,032,450     9,726,436\n",
       "4    2003      2  41,166,780     8,283,372\n",
       "..    ...    ...         ...           ...\n",
       "246  2023      4  67,572,132    18,823,978\n",
       "247  2023      5  71,424,589    19,833,959\n",
       "248  2023      6  69,297,587    21,471,446\n",
       "249  2023      7  75,378,956    23,456,611\n",
       "250  2023      8  71,478,434    21,294,628\n",
       "\n",
       "[251 rows x 4 columns]"
      ]
     },
     "execution_count": 3,
     "metadata": {},
     "output_type": "execute_result"
    }
   ],
   "source": [
    "df"
   ]
  },
  {
   "cell_type": "code",
   "execution_count": 4,
   "id": "354a1941",
   "metadata": {},
   "outputs": [
    {
     "data": {
      "text/plain": [
       "Index(['year', 'month', 'Domestic', 'International'], dtype='object')"
      ]
     },
     "execution_count": 4,
     "metadata": {},
     "output_type": "execute_result"
    }
   ],
   "source": [
    "df.columns"
   ]
  },
  {
   "cell_type": "code",
   "execution_count": 7,
   "id": "b44197f9",
   "metadata": {},
   "outputs": [],
   "source": [
    "from pymongo import MongoClient\n",
    "client = MongoClient(\"mongodb://localhost:27017\")\n",
    "db = client.project3\n",
    "collection = db.Passengers"
   ]
  },
  {
   "cell_type": "code",
   "execution_count": 8,
   "id": "ff70a5b5",
   "metadata": {},
   "outputs": [
    {
     "data": {
      "text/plain": [
       "{'_id': ObjectId('6569534e50185ee65c35277d'),\n",
       " 'year': 2002,\n",
       " 'month': 10,\n",
       " 'Domestic': '48,054,917',\n",
       " 'International': '9,578,435'}"
      ]
     },
     "execution_count": 8,
     "metadata": {},
     "output_type": "execute_result"
    }
   ],
   "source": [
    "collection.find_one()"
   ]
  },
  {
   "cell_type": "code",
   "execution_count": null,
   "id": "68c0fa2d",
   "metadata": {},
   "outputs": [],
   "source": []
  }
 ],
 "metadata": {
  "kernelspec": {
   "display_name": "Python 3 (ipykernel)",
   "language": "python",
   "name": "python3"
  },
  "language_info": {
   "codemirror_mode": {
    "name": "ipython",
    "version": 3
   },
   "file_extension": ".py",
   "mimetype": "text/x-python",
   "name": "python",
   "nbconvert_exporter": "python",
   "pygments_lexer": "ipython3",
   "version": "3.11.4"
  }
 },
 "nbformat": 4,
 "nbformat_minor": 5
}
